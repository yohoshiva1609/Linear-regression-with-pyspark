{
 "cells": [
  {
   "cell_type": "markdown",
   "metadata": {},
   "source": [
    "# Linear Regression  with pyspark"
   ]
  },
  {
   "cell_type": "code",
   "execution_count": 1,
   "metadata": {},
   "outputs": [],
   "source": [
    "from pyspark.sql import SparkSession"
   ]
  },
  {
   "cell_type": "code",
   "execution_count": 2,
   "metadata": {},
   "outputs": [],
   "source": [
    "saprk = SparkSession.builder.appName('lrex').getOrCreate()"
   ]
  },
  {
   "cell_type": "markdown",
   "metadata": {},
   "source": [
    "### Reading csv file in pyspark"
   ]
  },
  {
   "cell_type": "code",
   "execution_count": 3,
   "metadata": {},
   "outputs": [],
   "source": [
    "data = spark.read.csv('/home/jashuva/Downloads/real-estate-price-prediction/Real estate.csv',inferSchema=True,\n",
    "                         header=True)"
   ]
  },
  {
   "cell_type": "code",
   "execution_count": 4,
   "metadata": {},
   "outputs": [
    {
     "data": {
      "text/plain": [
       "Row(No=1, X1 transaction date=2012.917, X2 house age=32.0, X3 distance to the nearest MRT station=84.87882, X4 number of convenience stores=10, X5 latitude=24.98298, X6 longitude=121.54024, Y house price of unit area=37.9)"
      ]
     },
     "execution_count": 4,
     "metadata": {},
     "output_type": "execute_result"
    }
   ],
   "source": [
    "data.head()"
   ]
  },
  {
   "cell_type": "markdown",
   "metadata": {},
   "source": [
    "### Schema of Dataset"
   ]
  },
  {
   "cell_type": "code",
   "execution_count": 5,
   "metadata": {},
   "outputs": [
    {
     "name": "stdout",
     "output_type": "stream",
     "text": [
      "root\n",
      " |-- No: integer (nullable = true)\n",
      " |-- X1 transaction date: double (nullable = true)\n",
      " |-- X2 house age: double (nullable = true)\n",
      " |-- X3 distance to the nearest MRT station: double (nullable = true)\n",
      " |-- X4 number of convenience stores: integer (nullable = true)\n",
      " |-- X5 latitude: double (nullable = true)\n",
      " |-- X6 longitude: double (nullable = true)\n",
      " |-- Y house price of unit area: double (nullable = true)\n",
      "\n"
     ]
    }
   ],
   "source": [
    "data.printSchema()"
   ]
  },
  {
   "cell_type": "code",
   "execution_count": 6,
   "metadata": {},
   "outputs": [
    {
     "name": "stdout",
     "output_type": "stream",
     "text": [
      "2\n",
      "2012.917\n",
      "19.5\n",
      "306.5947\n",
      "9\n",
      "24.98034\n",
      "121.53951\n",
      "42.2\n"
     ]
    }
   ],
   "source": [
    "for i in  data.head(2)[1]:\n",
    "    print(i)"
   ]
  },
  {
   "cell_type": "code",
   "execution_count": 7,
   "metadata": {},
   "outputs": [],
   "source": [
    "from pyspark.ml.linalg import Vectors\n",
    "from pyspark.ml.feature import VectorAssembler"
   ]
  },
  {
   "cell_type": "code",
   "execution_count": 8,
   "metadata": {},
   "outputs": [
    {
     "data": {
      "text/plain": [
       "['No',\n",
       " 'X1 transaction date',\n",
       " 'X2 house age',\n",
       " 'X3 distance to the nearest MRT station',\n",
       " 'X4 number of convenience stores',\n",
       " 'X5 latitude',\n",
       " 'X6 longitude',\n",
       " 'Y house price of unit area']"
      ]
     },
     "execution_count": 8,
     "metadata": {},
     "output_type": "execute_result"
    }
   ],
   "source": [
    "data.columns"
   ]
  },
  {
   "cell_type": "markdown",
   "metadata": {},
   "source": [
    "### Create pyspark Dataframe  "
   ]
  },
  {
   "cell_type": "code",
   "execution_count": 9,
   "metadata": {},
   "outputs": [],
   "source": [
    "assembler = VectorAssembler(inputCols=['No','X1 transaction date','X2 house age','X3 distance to the nearest MRT station','X4 number of convenience stores','X5 latitude','X6 longitude'],\n",
    "                           outputCol='features')"
   ]
  },
  {
   "cell_type": "code",
   "execution_count": 10,
   "metadata": {},
   "outputs": [],
   "source": [
    "data_frame = assembler.transform(data)"
   ]
  },
  {
   "cell_type": "code",
   "execution_count": 11,
   "metadata": {},
   "outputs": [
    {
     "name": "stdout",
     "output_type": "stream",
     "text": [
      "+---+-------------------+------------+--------------------------------------+-------------------------------+-----------+------------+--------------------------+--------------------+\n",
      "| No|X1 transaction date|X2 house age|X3 distance to the nearest MRT station|X4 number of convenience stores|X5 latitude|X6 longitude|Y house price of unit area|            features|\n",
      "+---+-------------------+------------+--------------------------------------+-------------------------------+-----------+------------+--------------------------+--------------------+\n",
      "|  1|           2012.917|        32.0|                              84.87882|                             10|   24.98298|   121.54024|                      37.9|[1.0,2012.917,32....|\n",
      "|  2|           2012.917|        19.5|                              306.5947|                              9|   24.98034|   121.53951|                      42.2|[2.0,2012.917,19....|\n",
      "|  3|           2013.583|        13.3|                              561.9845|                              5|   24.98746|   121.54391|                      47.3|[3.0,2013.583,13....|\n",
      "|  4|             2013.5|        13.3|                              561.9845|                              5|   24.98746|   121.54391|                      54.8|[4.0,2013.5,13.3,...|\n",
      "|  5|           2012.833|         5.0|                              390.5684|                              5|   24.97937|   121.54245|                      43.1|[5.0,2012.833,5.0...|\n",
      "|  6|           2012.667|         7.1|                               2175.03|                              3|   24.96305|   121.51254|                      32.1|[6.0,2012.667,7.1...|\n",
      "|  7|           2012.667|        34.5|                              623.4731|                              7|   24.97933|   121.53642|                      40.3|[7.0,2012.667,34....|\n",
      "|  8|           2013.417|        20.3|                              287.6025|                              6|   24.98042|   121.54228|                      46.7|[8.0,2013.417,20....|\n",
      "|  9|             2013.5|        31.7|                              5512.038|                              1|   24.95095|   121.48458|                      18.8|[9.0,2013.5,31.7,...|\n",
      "| 10|           2013.417|        17.9|                               1783.18|                              3|   24.96731|   121.51486|                      22.1|[10.0,2013.417,17...|\n",
      "| 11|           2013.083|        34.8|                              405.2134|                              1|   24.97349|   121.53372|                      41.4|[11.0,2013.083,34...|\n",
      "| 12|           2013.333|         6.3|                              90.45606|                              9|   24.97433|    121.5431|                      58.1|[12.0,2013.333,6....|\n",
      "| 13|           2012.917|        13.0|                              492.2313|                              5|   24.96515|   121.53737|                      39.3|[13.0,2012.917,13...|\n",
      "| 14|           2012.667|        20.4|                              2469.645|                              4|   24.96108|   121.51046|                      23.8|[14.0,2012.667,20...|\n",
      "| 15|             2013.5|        13.2|                              1164.838|                              4|   24.99156|   121.53406|                      34.3|[15.0,2013.5,13.2...|\n",
      "| 16|           2013.583|        35.7|                              579.2083|                              2|    24.9824|   121.54619|                      50.5|[16.0,2013.583,35...|\n",
      "| 17|            2013.25|         0.0|                              292.9978|                              6|   24.97744|   121.54458|                      70.1|[17.0,2013.25,0.0...|\n",
      "| 18|            2012.75|        17.7|                              350.8515|                              1|   24.97544|   121.53119|                      37.4|[18.0,2012.75,17....|\n",
      "| 19|           2013.417|        16.9|                              368.1363|                              8|    24.9675|   121.54451|                      42.3|[19.0,2013.417,16...|\n",
      "| 20|           2012.667|         1.5|                              23.38284|                              7|   24.96772|   121.54102|                      47.7|[20.0,2012.667,1....|\n",
      "+---+-------------------+------------+--------------------------------------+-------------------------------+-----------+------------+--------------------------+--------------------+\n",
      "only showing top 20 rows\n",
      "\n"
     ]
    }
   ],
   "source": [
    "data_frame.show()"
   ]
  },
  {
   "cell_type": "code",
   "execution_count": 12,
   "metadata": {},
   "outputs": [],
   "source": [
    "spark_data_frame = data_frame.select('features','Y house price of unit area')"
   ]
  },
  {
   "cell_type": "code",
   "execution_count": 13,
   "metadata": {},
   "outputs": [
    {
     "name": "stdout",
     "output_type": "stream",
     "text": [
      "+--------------------+--------------------------+\n",
      "|            features|Y house price of unit area|\n",
      "+--------------------+--------------------------+\n",
      "|[1.0,2012.917,32....|                      37.9|\n",
      "|[2.0,2012.917,19....|                      42.2|\n",
      "|[3.0,2013.583,13....|                      47.3|\n",
      "|[4.0,2013.5,13.3,...|                      54.8|\n",
      "|[5.0,2012.833,5.0...|                      43.1|\n",
      "|[6.0,2012.667,7.1...|                      32.1|\n",
      "|[7.0,2012.667,34....|                      40.3|\n",
      "|[8.0,2013.417,20....|                      46.7|\n",
      "|[9.0,2013.5,31.7,...|                      18.8|\n",
      "|[10.0,2013.417,17...|                      22.1|\n",
      "|[11.0,2013.083,34...|                      41.4|\n",
      "|[12.0,2013.333,6....|                      58.1|\n",
      "|[13.0,2012.917,13...|                      39.3|\n",
      "|[14.0,2012.667,20...|                      23.8|\n",
      "|[15.0,2013.5,13.2...|                      34.3|\n",
      "|[16.0,2013.583,35...|                      50.5|\n",
      "|[17.0,2013.25,0.0...|                      70.1|\n",
      "|[18.0,2012.75,17....|                      37.4|\n",
      "|[19.0,2013.417,16...|                      42.3|\n",
      "|[20.0,2012.667,1....|                      47.7|\n",
      "+--------------------+--------------------------+\n",
      "only showing top 20 rows\n",
      "\n"
     ]
    }
   ],
   "source": [
    "spark_data_frame.show()"
   ]
  },
  {
   "cell_type": "markdown",
   "metadata": {},
   "source": [
    "### Normalization In Preprocessing "
   ]
  },
  {
   "cell_type": "code",
   "execution_count": 14,
   "metadata": {},
   "outputs": [],
   "source": [
    "from pyspark.ml.feature import Normalizer\n",
    "from pyspark.ml.linalg import Vectors"
   ]
  },
  {
   "cell_type": "code",
   "execution_count": 15,
   "metadata": {},
   "outputs": [],
   "source": [
    "normalizer = Normalizer().setInputCol(\"features\").setOutputCol(\"nor_features\").setP(1.0)"
   ]
  },
  {
   "cell_type": "code",
   "execution_count": 16,
   "metadata": {},
   "outputs": [
    {
     "name": "stdout",
     "output_type": "stream",
     "text": [
      "Normalized using L^1 norm\n",
      "+--------------------+--------------------------+--------------------+\n",
      "|            features|Y house price of unit area|        nor_features|\n",
      "+--------------------+--------------------------+--------------------+\n",
      "|[1.0,2012.917,32....|                      37.9|[4.37193055499594...|\n",
      "|[2.0,2012.917,19....|                      42.2|[8.01111445997948...|\n",
      "|[3.0,2013.583,13....|                      47.3|[0.00109353402190...|\n",
      "|[4.0,2013.5,13.3,...|                      54.8|[0.00145755816366...|\n",
      "|[5.0,2012.833,5.0...|                      43.1|[0.00194937609087...|\n",
      "|[6.0,2012.667,7.1...|                      32.1|[0.00137922391663...|\n",
      "|[7.0,2012.667,34....|                      40.3|[0.00247248840080...|\n",
      "|[8.0,2013.417,20....|                      46.7|[0.00322341202837...|\n",
      "|[9.0,2013.5,31.7,...|                      18.8|[0.00116675925744...|\n",
      "|[10.0,2013.417,17...|                      22.1|[0.00251636950578...|\n",
      "|[11.0,2013.083,34...|                      41.4|[0.00421197150971...|\n",
      "|[12.0,2013.333,6....|                      58.1|[0.00526868888576...|\n",
      "|[13.0,2012.917,13...|                      39.3|[0.00484595307860...|\n",
      "|[14.0,2012.667,20...|                      23.8|[0.00299966776108...|\n",
      "|[15.0,2013.5,13.2...|                      34.3|[0.00446819056708...|\n",
      "|[16.0,2013.583,35...|                      50.5|[0.00572856643709...|\n",
      "|[17.0,2013.25,0.0...|                      70.1|[0.00686655110772...|\n",
      "|[18.0,2012.75,17....|                      37.4|[0.00706767022924...|\n",
      "|[19.0,2013.417,16...|                      42.3|[0.00738734691565...|\n",
      "|[20.0,2012.667,1....|                      47.7|[0.00904544103033...|\n",
      "+--------------------+--------------------------+--------------------+\n",
      "only showing top 20 rows\n",
      "\n"
     ]
    }
   ],
   "source": [
    "l1NormData = normalizer.transform(spark_data_frame)\n",
    "print(\"Normalized using L^1 norm\")\n",
    "l1NormData.show()"
   ]
  },
  {
   "cell_type": "code",
   "execution_count": 17,
   "metadata": {},
   "outputs": [],
   "source": [
    "spark_data_frame_norm = l1NormData.select('nor_features','Y house price of unit area')"
   ]
  },
  {
   "cell_type": "code",
   "execution_count": 18,
   "metadata": {},
   "outputs": [
    {
     "name": "stdout",
     "output_type": "stream",
     "text": [
      "+--------------------+--------------------------+\n",
      "|        nor_features|Y house price of unit area|\n",
      "+--------------------+--------------------------+\n",
      "|[4.37193055499594...|                      37.9|\n",
      "|[8.01111445997948...|                      42.2|\n",
      "|[0.00109353402190...|                      47.3|\n",
      "|[0.00145755816366...|                      54.8|\n",
      "|[0.00194937609087...|                      43.1|\n",
      "|[0.00137922391663...|                      32.1|\n",
      "|[0.00247248840080...|                      40.3|\n",
      "|[0.00322341202837...|                      46.7|\n",
      "|[0.00116675925744...|                      18.8|\n",
      "|[0.00251636950578...|                      22.1|\n",
      "|[0.00421197150971...|                      41.4|\n",
      "|[0.00526868888576...|                      58.1|\n",
      "|[0.00484595307860...|                      39.3|\n",
      "|[0.00299966776108...|                      23.8|\n",
      "|[0.00446819056708...|                      34.3|\n",
      "|[0.00572856643709...|                      50.5|\n",
      "|[0.00686655110772...|                      70.1|\n",
      "|[0.00706767022924...|                      37.4|\n",
      "|[0.00738734691565...|                      42.3|\n",
      "|[0.00904544103033...|                      47.7|\n",
      "+--------------------+--------------------------+\n",
      "only showing top 20 rows\n",
      "\n"
     ]
    }
   ],
   "source": [
    "spark_data_frame_norm.show()"
   ]
  },
  {
   "cell_type": "code",
   "execution_count": 19,
   "metadata": {},
   "outputs": [
    {
     "name": "stdout",
     "output_type": "stream",
     "text": [
      "+-------+--------------------------+\n",
      "|summary|Y house price of unit area|\n",
      "+-------+--------------------------+\n",
      "|  count|                       414|\n",
      "|   mean|         37.98019323671498|\n",
      "| stddev|        13.606487697735316|\n",
      "|    min|                       7.6|\n",
      "|    max|                     117.5|\n",
      "+-------+--------------------------+\n",
      "\n"
     ]
    }
   ],
   "source": [
    "spark_data_frame_norm.describe().show()"
   ]
  },
  {
   "cell_type": "markdown",
   "metadata": {},
   "source": [
    "### Splitting Data Into Training and Testing"
   ]
  },
  {
   "cell_type": "code",
   "execution_count": 20,
   "metadata": {},
   "outputs": [],
   "source": [
    "train_data, test_data = spark_data_frame_norm.randomSplit([0.7,0.3])"
   ]
  },
  {
   "cell_type": "code",
   "execution_count": 21,
   "metadata": {},
   "outputs": [
    {
     "name": "stdout",
     "output_type": "stream",
     "text": [
      "+--------------------+--------------------------+\n",
      "|        nor_features|Y house price of unit area|\n",
      "+--------------------+--------------------------+\n",
      "|[4.37193055499594...|                      37.9|\n",
      "|[8.01111445997948...|                      42.2|\n",
      "|[0.00109353402190...|                      47.3|\n",
      "|[0.00116675925744...|                      18.8|\n",
      "|[0.00137922391663...|                      32.1|\n",
      "|[0.00145755816366...|                      54.8|\n",
      "|[0.00194937609087...|                      43.1|\n",
      "|[0.00251636950578...|                      22.1|\n",
      "|[0.00299966776108...|                      23.8|\n",
      "|[0.00322341202837...|                      46.7|\n",
      "|[0.00446819056708...|                      34.3|\n",
      "|[0.00470401798063...|                      29.3|\n",
      "|[0.00484595307860...|                      39.3|\n",
      "|[0.00526868888576...|                      58.1|\n",
      "|[0.00646383987735...|                      24.6|\n",
      "|[0.00668222310479...|                      18.2|\n",
      "|[0.00686655110772...|                      70.1|\n",
      "|[0.00701802938226...|                      27.0|\n",
      "|[0.00706767022924...|                      37.4|\n",
      "|[0.00716499067640...|                      13.4|\n",
      "+--------------------+--------------------------+\n",
      "only showing top 20 rows\n",
      "\n"
     ]
    }
   ],
   "source": [
    "train_data.show()"
   ]
  },
  {
   "cell_type": "code",
   "execution_count": 22,
   "metadata": {},
   "outputs": [
    {
     "name": "stdout",
     "output_type": "stream",
     "text": [
      "+--------------------+--------------------------+\n",
      "|        nor_features|Y house price of unit area|\n",
      "+--------------------+--------------------------+\n",
      "|[0.00247248840080...|                      40.3|\n",
      "|[0.00421197150971...|                      41.4|\n",
      "|[0.00460177287040...|                      22.1|\n",
      "|[0.00572396125307...|                      27.3|\n",
      "|[0.00572856643709...|                      50.5|\n",
      "|[0.00651200872540...|                      15.9|\n",
      "|[0.00740754933605...|                      13.2|\n",
      "|[0.00872703132440...|                      22.6|\n",
      "|[0.00887594152608...|                      51.6|\n",
      "|[0.00891973684249...|                      22.9|\n",
      "|[0.00904544103033...|                      47.7|\n",
      "|[0.01047048526178...|                      47.0|\n",
      "|[0.01169142100716...|                      20.0|\n",
      "|[0.01338621560432...|                      49.3|\n",
      "|[0.01445060679790...|                      55.1|\n",
      "|[0.01556009467239...|                      34.7|\n",
      "|[0.01959283336627...|                      21.8|\n",
      "|[0.02177855856209...|                      26.5|\n",
      "|[0.02348221742957...|                      27.0|\n",
      "|[0.02429198213569...|                      48.0|\n",
      "+--------------------+--------------------------+\n",
      "only showing top 20 rows\n",
      "\n"
     ]
    }
   ],
   "source": [
    "test_data.show()"
   ]
  },
  {
   "cell_type": "markdown",
   "metadata": {},
   "source": [
    "### Calling Linear Regression Algorithm from 'pyspark.ml.regression'  "
   ]
  },
  {
   "cell_type": "code",
   "execution_count": 23,
   "metadata": {},
   "outputs": [],
   "source": [
    "from pyspark.ml.regression import LinearRegression"
   ]
  },
  {
   "cell_type": "code",
   "execution_count": 24,
   "metadata": {},
   "outputs": [],
   "source": [
    "reg = LinearRegression(labelCol='Y house price of unit area',featuresCol='nor_features')"
   ]
  },
  {
   "cell_type": "markdown",
   "metadata": {},
   "source": [
    "### Fittig Train Data to the Model "
   ]
  },
  {
   "cell_type": "code",
   "execution_count": 25,
   "metadata": {},
   "outputs": [],
   "source": [
    "model =  reg.fit(train_data)"
   ]
  },
  {
   "cell_type": "code",
   "execution_count": 26,
   "metadata": {},
   "outputs": [],
   "source": [
    "unlable_data = test_data.select(\"nor_features\")"
   ]
  },
  {
   "cell_type": "code",
   "execution_count": 27,
   "metadata": {},
   "outputs": [
    {
     "name": "stdout",
     "output_type": "stream",
     "text": [
      "+--------------------+\n",
      "|        nor_features|\n",
      "+--------------------+\n",
      "|[0.00247248840080...|\n",
      "|[0.00421197150971...|\n",
      "|[0.00460177287040...|\n",
      "|[0.00572396125307...|\n",
      "|[0.00572856643709...|\n",
      "|[0.00651200872540...|\n",
      "|[0.00740754933605...|\n",
      "|[0.00872703132440...|\n",
      "|[0.00887594152608...|\n",
      "|[0.00891973684249...|\n",
      "|[0.00904544103033...|\n",
      "|[0.01047048526178...|\n",
      "|[0.01169142100716...|\n",
      "|[0.01338621560432...|\n",
      "|[0.01445060679790...|\n",
      "|[0.01556009467239...|\n",
      "|[0.01959283336627...|\n",
      "|[0.02177855856209...|\n",
      "|[0.02348221742957...|\n",
      "|[0.02429198213569...|\n",
      "+--------------------+\n",
      "only showing top 20 rows\n",
      "\n"
     ]
    }
   ],
   "source": [
    "unlable_data.show()"
   ]
  },
  {
   "cell_type": "markdown",
   "metadata": {},
   "source": [
    "### Predicting The Test Data "
   ]
  },
  {
   "cell_type": "code",
   "execution_count": 28,
   "metadata": {},
   "outputs": [
    {
     "name": "stdout",
     "output_type": "stream",
     "text": [
      "+--------------------+------------------+\n",
      "|        nor_features|        prediction|\n",
      "+--------------------+------------------+\n",
      "|[0.00247248840080...| 37.15339180369847|\n",
      "|[0.00421197150971...| 37.12366622522677|\n",
      "|[0.00460177287040...| 15.16310926182814|\n",
      "|[0.00572396125307...|26.056492064653867|\n",
      "|[0.00572856643709...|39.182447237039014|\n",
      "|[0.00651200872540...| 14.76161146533741|\n",
      "|[0.00740754933605...|13.194796443653104|\n",
      "|[0.00872703132440...| 15.26208299924292|\n",
      "|[0.00887594152608...| 51.78590859740507|\n",
      "|[0.00891973684249...| 26.81525280337337|\n",
      "|[0.00904544103033...| 52.88409327393674|\n",
      "|[0.01047048526178...| 43.52262614967731|\n",
      "|[0.01169142100716...|15.345543167303731|\n",
      "|[0.01338621560432...|48.801329897240066|\n",
      "|[0.01445060679790...| 51.10493097794824|\n",
      "|[0.01556009467239...| 35.74360438300755|\n",
      "|[0.01959283336627...|23.639897136475156|\n",
      "|[0.02177855856209...|22.462885620521774|\n",
      "|[0.02348221742957...|24.602652130572096|\n",
      "|[0.02429198213569...| 35.17239173834059|\n",
      "+--------------------+------------------+\n",
      "only showing top 20 rows\n",
      "\n"
     ]
    }
   ],
   "source": [
    "predictions = model.transform(unlable_data)\n",
    "predictions.show()"
   ]
  },
  {
   "cell_type": "markdown",
   "metadata": {},
   "source": [
    "### Evaluating Algorithm Performance"
   ]
  },
  {
   "cell_type": "code",
   "execution_count": 29,
   "metadata": {},
   "outputs": [
    {
     "name": "stdout",
     "output_type": "stream",
     "text": [
      "RMSE: 8.496913\n",
      "r2: 0.644609\n"
     ]
    }
   ],
   "source": [
    "trainingSummary = model.summary\n",
    "print(\"RMSE: %f\" % trainingSummary.rootMeanSquaredError)\n",
    "print(\"r2: %f\" % trainingSummary.r2)"
   ]
  }
 ],
 "metadata": {
  "kernelspec": {
   "display_name": "Python 3",
   "language": "python",
   "name": "python3"
  },
  "language_info": {
   "codemirror_mode": {
    "name": "ipython",
    "version": 2
   },
   "file_extension": ".py",
   "mimetype": "text/x-python",
   "name": "python",
   "nbconvert_exporter": "python",
   "pygments_lexer": "ipython2",
   "version": "2.7.17"
  }
 },
 "nbformat": 4,
 "nbformat_minor": 2
}
